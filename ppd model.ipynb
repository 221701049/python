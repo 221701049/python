{
 "cells": [
  {
   "cell_type": "code",
   "execution_count": 2,
   "id": "5e6ded57-a420-4cde-a40f-63febf356a38",
   "metadata": {},
   "outputs": [
    {
     "name": "stdin",
     "output_type": "stream",
     "text": [
      "Enter the size of the list:  5\n",
      "Enter element 1:  -5\n",
      "Enter element 2:  -6\n",
      "Enter element 3:  4\n",
      "Enter element 4:  3\n",
      "Enter element 5:  9\n"
     ]
    },
    {
     "name": "stdout",
     "output_type": "stream",
     "text": [
      "Sum of positive elements: 16\n",
      "Sum of negative elements: -11\n"
     ]
    }
   ],
   "source": [
    "def finds(data):\n",
    "  positive_sum = 0\n",
    "  negative_sum = 0\n",
    "  for num in data:\n",
    "    if num > 0:\n",
    "      positive_sum += num\n",
    "    elif num < 0:\n",
    "      negative_sum += num\n",
    "  return positive_sum, negative_sum\n",
    "n = int(input(\"Enter the size of the list: \"))\n",
    "\n",
    "data = []\n",
    "for i in range(n):\n",
    "  num = int(input(f\"Enter element {i+1}: \"))\n",
    "  data.append(num)\n",
    "positive_sum, negative_sum = finds(data)\n",
    "print(f\"Sum of positive elements: {positive_sum}\")\n",
    "print(f\"Sum of negative elements: {negative_sum}\")"
   ]
  },
  {
   "cell_type": "code",
   "execution_count": 3,
   "id": "cf867753-5642-45be-aa4c-767ae3758884",
   "metadata": {},
   "outputs": [
    {
     "name": "stdin",
     "output_type": "stream",
     "text": [
      "Enter a string malayalam is my mother toungue\n"
     ]
    },
    {
     "name": "stdout",
     "output_type": "stream",
     "text": [
      "is my mother toungue "
     ]
    }
   ],
   "source": [
    "str1=input(\"Enter a string\")\n",
    "list=[]\n",
    "list=str1.split(\" \")\n",
    "for i in list:\n",
    "    n=\"\".join(reversed(i))\n",
    "    if n.lower()==i.lower():\n",
    "        continue\n",
    "    else:\n",
    "        print(i,end=\" \")"
   ]
  },
  {
   "cell_type": "code",
   "execution_count": 9,
   "id": "d2ecc7dd-20af-427a-b26b-bdd12caec7e6",
   "metadata": {},
   "outputs": [
    {
     "name": "stdout",
     "output_type": "stream",
     "text": [
      "Enter words (press Enter on an empty line to stop):\n"
     ]
    },
    {
     "name": "stdin",
     "output_type": "stream",
     "text": [
      " first\n",
      " second\n",
      " first\n",
      " third\n",
      " second\n",
      " \n"
     ]
    },
    {
     "name": "stdout",
     "output_type": "stream",
     "text": [
      "first\n",
      "second\n",
      "third\n"
     ]
    }
   ],
   "source": [
    "words = []\n",
    "print(\"Enter words (press Enter on an empty line to stop):\")\n",
    "while True:\n",
    "    word = input()\n",
    "    if word == \"\":\n",
    "        break\n",
    "    words.append(word)\n",
    "unique_words = []\n",
    "for word in words:\n",
    "    if word not in unique_words:\n",
    "        unique_words.append(word)\n",
    "\n",
    "for word in unique_words:\n",
    "    print(word)"
   ]
  },
  {
   "cell_type": "code",
   "execution_count": null,
   "id": "aea130d4-32fb-4d09-bdfa-53de4e8a3ded",
   "metadata": {},
   "outputs": [],
   "source": []
  }
 ],
 "metadata": {
  "kernelspec": {
   "display_name": "Python 3 (ipykernel)",
   "language": "python",
   "name": "python3"
  },
  "language_info": {
   "codemirror_mode": {
    "name": "ipython",
    "version": 3
   },
   "file_extension": ".py",
   "mimetype": "text/x-python",
   "name": "python",
   "nbconvert_exporter": "python",
   "pygments_lexer": "ipython3",
   "version": "3.11.7"
  }
 },
 "nbformat": 4,
 "nbformat_minor": 5
}
